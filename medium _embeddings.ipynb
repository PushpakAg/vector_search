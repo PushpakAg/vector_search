{
 "cells": [
  {
   "cell_type": "code",
   "execution_count": null,
   "metadata": {},
   "outputs": [],
   "source": [
    "from sentence_transformers import SentenceTransformer, util\n",
    "import pandas as pd"
   ]
  },
  {
   "cell_type": "code",
   "execution_count": null,
   "metadata": {},
   "outputs": [],
   "source": [
    "df = pd.read_csv(r\"C:\\Users\\pushpak\\Downloads\\11000 Medicine details COPY_exported\\11000 Medicine details COPY_exported.csv\")\n",
    "print(len(df)) # 192368\n",
    "\n",
    "embedder = SentenceTransformer('all-MiniLM-L6-v2')"
   ]
  },
  {
   "cell_type": "code",
   "execution_count": null,
   "metadata": {},
   "outputs": [],
   "source": [
    "df = pd.read_csv(r\"C:\\Users\\pushpak\\Downloads\\11000 Medicine details COPY_exported\\11000 Medicine details COPY_exported.csv\")\n",
    "print(len(df)) # 192"
   ]
  },
  {
   "cell_type": "code",
   "execution_count": null,
   "metadata": {},
   "outputs": [],
   "source": [
    "corpus = df[\"Medicine Name\"] + \" \" + df[\"Composition\"] + \" \" + df[\"Uses\"]"
   ]
  },
  {
   "cell_type": "code",
   "execution_count": null,
   "metadata": {},
   "outputs": [],
   "source": [
    "corpus_embeddings = embedder.encode(corpus, convert_to_tensor=True)"
   ]
  },
  {
   "cell_type": "code",
   "execution_count": null,
   "metadata": {},
   "outputs": [],
   "source": [
    "print(corpus_embeddings.shape)"
   ]
  },
  {
   "cell_type": "code",
   "execution_count": null,
   "metadata": {},
   "outputs": [],
   "source": [
    "import torch\n",
    "torch.save(corpus_embeddings,r\"C:\\Users\\pushpak\\Documents\\emails_data\\ui\\embeddings.pth\")"
   ]
  },
  {
   "cell_type": "code",
   "execution_count": null,
   "metadata": {},
   "outputs": [],
   "source": [
    "query = \"small dick\"\n",
    "top_k = 10\n",
    "\n",
    "# Find the closest top_k sentences of the corpus based on cosine similarity\n",
    "query_embedding = embedder.encode(query, convert_to_tensor=True)\n",
    "hits = util.semantic_search(query_embedding, corpus_embeddings, top_k=top_k)\n",
    "hits = hits[0]\n",
    "\n",
    "print(f\"\\nTop {top_k} most similar sentences in corpus:\")\n",
    "for hit in hits:\n",
    "    hit_id = hit['corpus_id']\n",
    "    article_data = df.iloc[hit_id]\n",
    "    title = article_data[\"Medicine Name\"]\n",
    "    print(\"-\", title, \"(Score: {:.4f})\".format(hit['score']))"
   ]
  },
  {
   "cell_type": "code",
   "execution_count": null,
   "metadata": {},
   "outputs": [],
   "source": [
    "from langchain_openai import ChatOpenAI\n",
    "\n",
    "llm = ChatOpenAI(openai_api_key=\"  \")"
   ]
  },
  {
   "cell_type": "code",
   "execution_count": null,
   "metadata": {},
   "outputs": [],
   "source": [
    "from langchain_core.prompts import ChatPromptTemplate\n",
    "prompt = ChatPromptTemplate.from_messages([\n",
    "    (\"system\", \"you are a doctor. you will look into the problem provided by the user and summarize the problem in just two medical terms\"),\n",
    "    (\"user\", \"{input}\")\n",
    "])\n",
    "\n",
    "chain = prompt | llm "
   ]
  },
  {
   "cell_type": "code",
   "execution_count": null,
   "metadata": {},
   "outputs": [],
   "source": []
  },
  {
   "cell_type": "code",
   "execution_count": null,
   "metadata": {},
   "outputs": [],
   "source": [
    "%%time\n",
    "query = chain.invoke({\"input\": \"hair loss with dandruff\"}).content\n",
    "print(query)\n",
    "top_k = 10\n",
    "\n",
    "# Find the closest top_k sentences of the corpus based on cosine similarity\n",
    "query_embedding = embedder.encode(query, convert_to_tensor=True)\n",
    "hits = util.semantic_search(query_embedding, corpus_embeddings, top_k=top_k)\n",
    "hits = hits[0]\n",
    "\n",
    "print(f\"\\nTop {top_k} most similar sentences in corpus:\")\n",
    "for hit in hits:\n",
    "    hit_id = hit['corpus_id']\n",
    "    data = df.iloc[hit_id]\n",
    "    title = data[\"Medicine Name\"]\n",
    "    print(\"-\", title, \"(Score: {:.4f})\".format(hit['score']))"
   ]
  },
  {
   "cell_type": "code",
   "execution_count": null,
   "metadata": {},
   "outputs": [],
   "source": []
  }
 ],
 "metadata": {
  "kernelspec": {
   "display_name": "Python 3",
   "language": "python",
   "name": "python3"
  },
  "language_info": {
   "codemirror_mode": {
    "name": "ipython",
    "version": 3
   },
   "file_extension": ".py",
   "mimetype": "text/x-python",
   "name": "python",
   "nbconvert_exporter": "python",
   "pygments_lexer": "ipython3",
   "version": "3.10.6"
  }
 },
 "nbformat": 4,
 "nbformat_minor": 2
}
